{
 "cells": [
  {
   "cell_type": "code",
   "execution_count": 1,
   "id": "901c8511-afcc-40d4-92dd-139691265c0d",
   "metadata": {},
   "outputs": [],
   "source": [
    "from anki.collection import Collection\n",
    "from addon.application.services.formatter_service import (\n",
    "    convert_note_to_addon_note,\n",
    ")\n",
    "from addon.domain.entities.note import AddonNote\n",
    "from addon.domain.repositories.document_repository import (\n",
    "    Document,\n",
    "    SearchQuery,\n",
    ")\n",
    "from addon.infrastructure.persistence.qdrant_repository import (\n",
    "    QdrantDocumentRepository,\n",
    ")\n",
    "from addon.application.use_cases.note_duplicate_finder import SimilarNoteFinder\n",
    "from addon.domain.entities.note import AddonCollection\n"
   ]
  },
  {
   "cell_type": "code",
   "execution_count": 2,
   "id": "902f3d9c-54f8-4a21-a420-ca3e660bbfc1",
   "metadata": {},
   "outputs": [],
   "source": [
    "anki_collection_path = \"/home/gianluca/.local/share/Anki2/User 1/collection.anki2\"\n",
    "anki_collection = Collection(anki_collection_path)"
   ]
  },
  {
   "cell_type": "code",
   "execution_count": 3,
   "id": "6a3cf4ee-5e22-4605-944a-6fea7ffc9b66",
   "metadata": {},
   "outputs": [],
   "source": [
    "collection = AddonCollection(\"default\")\n",
    "\n",
    "note_ids = anki_collection.find_notes(\"\")  # Empty query returns all notes\n",
    "for note_id in note_ids:\n",
    "    note = anki_collection.get_note(note_id)\n",
    "    collection.add(convert_note_to_addon_note(note))"
   ]
  },
  {
   "cell_type": "code",
   "execution_count": 4,
   "id": "4091abca-a67c-4adb-85ca-4153a67886a6",
   "metadata": {},
   "outputs": [
    {
     "name": "stderr",
     "output_type": "stream",
     "text": [
      "/home/gianluca/git/anki-addon/.venv/lib/python3.12/site-packages/tqdm/auto.py:21: TqdmWarning: IProgress not found. Please update jupyter and ipywidgets. See https://ipywidgets.readthedocs.io/en/stable/user_install.html\n",
      "  from .autonotebook import tqdm as notebook_tqdm\n"
     ]
    }
   ],
   "source": [
    "%%time\n",
    "repository = QdrantDocumentRepository.create()"
   ]
  },
  {
   "cell_type": "code",
   "execution_count": 5,
   "id": "b4e9955e-5f06-4f12-bcea-1e494465cea4",
   "metadata": {},
   "outputs": [
    {
     "name": "stdout",
     "output_type": "stream",
     "text": [
      "CPU times: user 2min 53s, sys: 702 ms, total: 2min 54s\n",
      "Wall time: 1min 30s\n"
     ]
    }
   ],
   "source": [
    "%%time\n",
    "finder = SimilarNoteFinder(collection=collection, repository=repository)"
   ]
  },
  {
   "cell_type": "code",
   "execution_count": 6,
   "id": "6dd48c68-700a-4f31-87a4-022ee283dd20",
   "metadata": {},
   "outputs": [
    {
     "name": "stdout",
     "output_type": "stream",
     "text": [
      "CPU times: user 292 ms, sys: 16.9 ms, total: 309 ms\n",
      "Wall time: 178 ms\n"
     ]
    },
    {
     "data": {
      "text/plain": [
       "[AddonNote(guid='Q~tIOur|Dj', front='When testing, how should we treat <i>slow</i> code? e.g., network calls or file system requests', back='We should execute it only when that behavior is explicitly part of the test of the unit under test. In every other case, we should use a Nullable', tags=['software-engineering', 'software-testing'], notetype=<AddonNoteType.BASIC: 'basic'>, deck_name=None)]"
      ]
     },
     "execution_count": 6,
     "metadata": {},
     "output_type": "execute_result"
    }
   ],
   "source": [
    "%%time\n",
    "note = AddonNote(front=\"best way to avoid slow tests?\", back=\"use fakes and nullables to prevent slow network calls or slow operations\")\n",
    "finder.find_duplicates(note)"
   ]
  }
 ],
 "metadata": {
  "kernelspec": {
   "display_name": "Python 3 (ipykernel)",
   "language": "python",
   "name": "python3"
  },
  "language_info": {
   "codemirror_mode": {
    "name": "ipython",
    "version": 3
   },
   "file_extension": ".py",
   "mimetype": "text/x-python",
   "name": "python",
   "nbconvert_exporter": "python",
   "pygments_lexer": "ipython3",
   "version": "3.12.6"
  }
 },
 "nbformat": 4,
 "nbformat_minor": 5
}
