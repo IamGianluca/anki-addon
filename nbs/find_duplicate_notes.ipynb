{
 "cells": [
  {
   "cell_type": "code",
   "execution_count": 1,
   "id": "901c8511-afcc-40d4-92dd-139691265c0d",
   "metadata": {},
   "outputs": [
    {
     "name": "stderr",
     "output_type": "stream",
     "text": [
      "/home/gianluca/git/anki-addon/.venv/lib/python3.12/site-packages/qdrant_client/http/models/models.py:758: SyntaxWarning: invalid escape sequence '\\&'\n",
      "  description=\"Check that the field is empty, alternative syntax for `is_empty: \\&quot;field_name\\&quot;`\",\n",
      "/home/gianluca/git/anki-addon/.venv/lib/python3.12/site-packages/qdrant_client/http/models/models.py:762: SyntaxWarning: invalid escape sequence '\\&'\n",
      "  description=\"Check that the field is null, alternative syntax for `is_null: \\&quot;field_name\\&quot;`\",\n",
      "/home/gianluca/git/anki-addon/.venv/lib/python3.12/site-packages/tqdm/auto.py:21: TqdmWarning: IProgress not found. Please update jupyter and ipywidgets. See https://ipywidgets.readthedocs.io/en/stable/user_install.html\n",
      "  from .autonotebook import tqdm as notebook_tqdm\n"
     ]
    }
   ],
   "source": [
    "import uuid\n",
    "\n",
    "from anki.collection import Collection\n",
    "\n",
    "from addon.application.services.formatter_service import (\n",
    "    convert_note_to_addon_note,\n",
    ")\n",
    "from addon.domain.entities.note import AddonNote\n",
    "from addon.domain.repositories.document_repository import (\n",
    "    Document,\n",
    "    SearchQuery,\n",
    ")\n",
    "from addon.infrastructure.persistence.qdrant_repository import (\n",
    "    QdrantDocumentRepository,\n",
    ")"
   ]
  },
  {
   "cell_type": "code",
   "execution_count": 2,
   "id": "902f3d9c-54f8-4a21-a420-ca3e660bbfc1",
   "metadata": {},
   "outputs": [],
   "source": [
    "collection_path = \"/home/gianluca/.local/share/Anki2/User 1/collection.anki2\"\n",
    "col = Collection(collection_path)"
   ]
  },
  {
   "cell_type": "code",
   "execution_count": 3,
   "id": "057791cc-e2ad-45b3-ae89-6d9f7daa855c",
   "metadata": {},
   "outputs": [],
   "source": [
    "deck_name = \"Default\"\n",
    "deck_id = col.decks.id(deck_name)\n",
    "note_ids = col.find_notes(f\"did:{deck_id}\")"
   ]
  },
  {
   "cell_type": "code",
   "execution_count": 4,
   "id": "4a581fa8-ccae-4ebe-955e-53b4803a8c95",
   "metadata": {},
   "outputs": [
    {
     "name": "stdout",
     "output_type": "stream",
     "text": [
      "guid='D?H@y-%%r' front='<img src=\"paste-d0ff77498ff8dde85ba00ae8b7c4bb6032d8483d.jpg\">' back='Headboard' tags=['english'] notetype=<AddonNoteType.BASIC: 'basic'> deck_name=None\n",
      "----\n",
      "guid='IjfKk}wnb@' front='<img src=\"paste-334a3566ffa4cab66033c10810e8d06af8fda194.jpg\">' back='Towel' tags=['english'] notetype=<AddonNoteType.BASIC: 'basic'> deck_name=None\n",
      "----\n",
      "guid='G1Z_~#;mLc' front='<img src=\"paste-d9689dc830d3f333e81b9b7058d5b25517064954.jpg\">' back='Jug' tags=['english'] notetype=<AddonNoteType.BASIC: 'basic'> deck_name=None\n",
      "----\n",
      "guid='Azd65{j+,q' front='Command to create a soft link' back='```bash<br>$ ln -s &lt;file&gt; &lt;link&gt;<br>```' tags=['linux'] notetype=<AddonNoteType.BASIC: 'basic'> deck_name=None\n",
      "----\n",
      "guid='BGL!8$wV<W' front='In `ln -s`, what is the order of file name and link name?' back='```bash<br>$ ln -s &lt;file_name&gt; &lt;link_name&gt;<br>```' tags=['linux'] notetype=<AddonNoteType.BASIC: 'basic'> deck_name=None\n",
      "----\n",
      "guid='be:y>MF$Ae' front='In `zip`, what is the option to specify the destination?' back='```bash<br>$ unzip &lt;file&gt; -d &lt;path&gt;<br>```<br><br><img src=\"paste-92e15adfe1d216e9ba6f170e4033b292b7b15756.jpg\">' tags=['linux'] notetype=<AddonNoteType.BASIC: 'basic'> deck_name=None\n",
      "----\n",
      "guid='Ab&$&th[l3' front='What command extracts files from a zip archive?' back='```bash<br>$ unzip &lt;file&gt;<br>```' tags=['linux'] notetype=<AddonNoteType.BASIC: 'basic'> deck_name=None\n",
      "----\n",
      "guid='Mm+g*FhiWM' front='What is the command to list the content of a directory?' back='```bash<br>$ ls &lt;path&gt;<br>```' tags=['linux'] notetype=<AddonNoteType.BASIC: 'basic'> deck_name=None\n",
      "----\n",
      "guid='hbX3.9`gV4' front='What is the command to print text to the terminal window?' back='```bash<br>$ echo ...<br>```' tags=['linux'] notetype=<AddonNoteType.BASIC: 'basic'> deck_name=None\n",
      "----\n",
      "guid='t%Xj3!iT4e' front='What is the command to create a new file?' back='```bash<br>$ touch ...<br>```' tags=['linux'] notetype=<AddonNoteType.BASIC: 'basic'> deck_name=None\n",
      "----\n",
      "guid='py3e6$|@3i' front='Command to create a new directory' back='```bash<br>$ mkdir &lt;dir_name&gt;<br>```' tags=['linux'] notetype=<AddonNoteType.BASIC: 'basic'> deck_name=None\n",
      "----\n"
     ]
    }
   ],
   "source": [
    "notes_to_index = []\n",
    "n_notes_to_index = 100\n",
    "\n",
    "for n, note_id in enumerate(note_ids):\n",
    "    note = col.get_note(note_id)\n",
    "    addon_note = convert_note_to_addon_note(note)\n",
    "    notes_to_index.append(addon_note)\n",
    "    if n <= 10 and \"personal\" not in addon_note:\n",
    "        print(addon_note)\n",
    "        print(\"----\")\n",
    "    if n >= n_notes_to_index:\n",
    "        break"
   ]
  },
  {
   "cell_type": "code",
   "execution_count": 5,
   "id": "8cd4aa5a-835e-4c69-a7fe-aa0def06e400",
   "metadata": {},
   "outputs": [],
   "source": [
    "qdrant = QdrantDocumentRepository.create()"
   ]
  },
  {
   "cell_type": "code",
   "execution_count": 6,
   "id": "19824208-67fb-4a2f-9a78-5cefa25dd2f5",
   "metadata": {},
   "outputs": [
    {
     "data": {
      "text/plain": [
       "'What is the main benefit of bagging? Reduce variance for high-variance low-bias weak learners ml'"
      ]
     },
     "execution_count": 6,
     "metadata": {},
     "output_type": "execute_result"
    }
   ],
   "source": [
    "n = notes_to_index[52]\n",
    "\n",
    "def note_to_str(note: AddonNote) -> str:\n",
    "    return f\"{note.front} {note.back} {''.join(note.tags)}\"\n",
    "\n",
    "note_to_str(n)"
   ]
  },
  {
   "cell_type": "code",
   "execution_count": 7,
   "id": "bb6187bf-50cc-4432-aad1-1d145a446f82",
   "metadata": {},
   "outputs": [
    {
     "name": "stdout",
     "output_type": "stream",
     "text": [
      "CPU times: user 5.01 s, sys: 47 ms, total: 5.06 s\n",
      "Wall time: 2.75 s\n"
     ]
    }
   ],
   "source": [
    "%%time\n",
    "documents = [\n",
    "    Document(\n",
    "        id=str(uuid.uuid4()),\n",
    "        content=f\"{note_to_str(n)}\",\n",
    "        source=\"source\",\n",
    "        metadata={},\n",
    "    )\n",
    "    for n in notes_to_index\n",
    "]\n",
    "qdrant.store_batch(documents=documents)"
   ]
  },
  {
   "cell_type": "code",
   "execution_count": 8,
   "id": "6dd48c68-700a-4f31-87a4-022ee283dd20",
   "metadata": {},
   "outputs": [
    {
     "name": "stdout",
     "output_type": "stream",
     "text": [
      "CPU times: user 58.5 ms, sys: 2.85 ms, total: 61.3 ms\n",
      "Wall time: 36.2 ms\n"
     ]
    }
   ],
   "source": [
    "%%time\n",
    "query = SearchQuery(text=r\"decompress zip archive\")\n",
    "results = qdrant.find_similar(query=query)"
   ]
  },
  {
   "cell_type": "code",
   "execution_count": 9,
   "id": "22c0e1a5-c34f-4ce2-95cd-6278c00ef982",
   "metadata": {},
   "outputs": [
    {
     "name": "stdout",
     "output_type": "stream",
     "text": [
      "Relevance score: 0.5711341386769451 .. What command extracts files from a zip archive? ```bash<br>$ unzip &lt;file&gt;<br>``` linux\n",
      "\n",
      "Relevance score: 0.4617749124519591 .. In `zip`, what is the option to specify the destination? ```bash<br>$ unzip &lt;file&gt; -d &lt;path&gt;<br>```<br><br><img src=\"paste-92e15adfe1d216e9ba6f170e4033b292b7b15756.jpg\"> linux\n",
      "\n",
      "Relevance score: 0.21118621039727276 .. How does bagging work? <img src=\"2560px-Ensemble_Bagging.svg.png\"> ml\n",
      "\n",
      "Relevance score: 0.17499870340832863 .. What command retrieves content from web servers? ```bash<br>$ wget &lt;url&gt;<br>``` linux\n",
      "\n",
      "Relevance score: 0.17187193915249446 .. What argument sets the destination folder for `wget`? ```bash<br>$ wget &lt;url&gt; -P &lt;path&gt;<br>```<br><br><img src=\"paste-c971f4ef171edc01f1079127e58e78097f03e917.jpg\"><br> linux\n",
      "\n"
     ]
    }
   ],
   "source": [
    "for r in results:\n",
    "    if \"personal\" not in r.document.content:\n",
    "        print(\n",
    "            f\"Relevance score: {r.relevance_score} .. {r.document.content}\\n\"\n",
    "        )"
   ]
  },
  {
   "cell_type": "markdown",
   "id": "1a2149a5-1ac6-4317-ad7e-9e52fa85f8e8",
   "metadata": {},
   "source": []
  }
 ],
 "metadata": {
  "kernelspec": {
   "display_name": "Python 3 (ipykernel)",
   "language": "python",
   "name": "python3"
  },
  "language_info": {
   "codemirror_mode": {
    "name": "ipython",
    "version": 3
   },
   "file_extension": ".py",
   "mimetype": "text/x-python",
   "name": "python",
   "nbconvert_exporter": "python",
   "pygments_lexer": "ipython3",
   "version": "3.12.6"
  }
 },
 "nbformat": 4,
 "nbformat_minor": 5
}
